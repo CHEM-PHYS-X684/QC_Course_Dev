{
 "cells": [
  {
   "cell_type": "markdown",
   "id": "79b17cab-b364-48d1-b72b-ebb9a9e29236",
   "metadata": {
    "tags": []
   },
   "source": [
    "$\\newcommand{\\ket}[1]{\\left|{#1}\\right\\rangle}$\n",
    "$\\newcommand{\\bra}[1]{\\left\\langle{#1}\\right|}$\n",
    "$\\newcommand{\\braket}[2]{\\left\\langle{#1}\\middle|{#2}\\right\\rangle}$\n",
    "$\\newcommand{\\dvec}[1]{\\begin{pmatrix}#1\\end{pmatrix}}$\n",
    "\n",
    "# Matrices and Vectors\n",
    "\n",
    "Let us refresh ourselves with the representation of the state of a single qubit. \n",
    "Due to the postulates of quantum mechanics, wavefunctions, $\\ket{\\psi}$, are written as linear combinations of basis states. \n",
    "While any basis is perfectly fine to use, we will pick one set of vectors, $\\ket{0}$ and $\\ket{1}$, to be our basis. \n",
    "This basis is often referred to as the **computational basis**.\n",
    "\n",
    "In this basis, any state of the qubit can be represented in the following form:\n",
    "$$\\ket{\\psi} = \\alpha\\ket{0} + \\beta\\ket{1},$$\n",
    "where $\\alpha$ and $\\beta$ are arbitrary complex numbers, $a + bi$.\n",
    "In this basis, we can simplify things and write the state as a vector:\n",
    "$$\\begin{pmatrix}\\alpha \\\\ \\beta\\end{pmatrix}.$$\n",
    "\n",
    "This represents a key distinction between quantum and classical information. \n",
    "Classical bits, are restricted at any given time to existing in 1 of only 2 possible states:\n",
    "$\\dvec{1\\\\0}$ or  $\\dvec{0\\\\1}$."
   ]
  },
  {
   "cell_type": "markdown",
   "id": "10aa8884-ab3a-4ba1-8f63-26376fea1aec",
   "metadata": {},
   "source": []
  },
  {
   "cell_type": "code",
   "execution_count": null,
   "id": "d2d91166-ead3-45f8-8ac3-e6c287a8e868",
   "metadata": {},
   "outputs": [],
   "source": []
  }
 ],
 "metadata": {
  "kernelspec": {
   "display_name": "Python 3 (ipykernel)",
   "language": "python",
   "name": "python3"
  },
  "language_info": {
   "codemirror_mode": {
    "name": "ipython",
    "version": 3
   },
   "file_extension": ".py",
   "mimetype": "text/x-python",
   "name": "python",
   "nbconvert_exporter": "python",
   "pygments_lexer": "ipython3",
   "version": "3.9.9"
  }
 },
 "nbformat": 4,
 "nbformat_minor": 5
}
